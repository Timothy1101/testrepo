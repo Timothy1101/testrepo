{
 "cells": [
  {
   "cell_type": "markdown",
   "id": "8df33606-40bf-4fe9-a805-d7df649c4142",
   "metadata": {
    "tags": []
   },
   "source": [
    "# Data Science Tools and Ecosystem"
   ]
  },
  {
   "cell_type": "markdown",
   "id": "06253f42-922e-4348-95c7-f917607d884c",
   "metadata": {},
   "source": [
    "In this notebook, Data Science Tools and Ecosystem are summarized."
   ]
  },
  {
   "cell_type": "markdown",
   "id": "5e434108-3ac2-4f69-a36f-8c32f3d4d58d",
   "metadata": {},
   "source": [
    "**Objectives:**\n",
    "- Popular languages for Data Science\n",
    "- Libraries used by Data Scientists\n",
    "- Data Science Tools"
   ]
  },
  {
   "cell_type": "markdown",
   "id": "340a6e1e-4207-4bf9-823a-63aaa2e7575b",
   "metadata": {},
   "source": [
    "Some of the popular languages that Data Scientists use are:\n",
    "1. Python\n",
    "2. R\n",
    "3. Julia"
   ]
  },
  {
   "cell_type": "markdown",
   "id": "16f5ed80-7c0c-4c4b-bb3e-d395870b43fe",
   "metadata": {},
   "source": [
    "Some of the commonly used libraries used by Data Scientists include:\n",
    "1. Numpy\n",
    "2. Pandas\n",
    "3. Sklearn"
   ]
  },
  {
   "cell_type": "markdown",
   "id": "51d9a5d8-3497-40c2-80bd-e742465cb834",
   "metadata": {},
   "source": [
    "|Data Science Tools|\n",
    "----------------------\n",
    "|mysql|\n",
    "|Apache AirFlow|\n",
    "|Apache Kafka|"
   ]
  },
  {
   "cell_type": "markdown",
   "id": "baf348c5-07e1-4170-a24e-570e4b0c8598",
   "metadata": {},
   "source": [
    "### Below are a few examples of evaluating arithmetic expressions in Python."
   ]
  },
  {
   "cell_type": "code",
   "execution_count": 2,
   "id": "08d9ee95-c06b-413f-a223-c2a519b4708e",
   "metadata": {
    "tags": []
   },
   "outputs": [
    {
     "data": {
      "text/plain": [
       "17"
      ]
     },
     "execution_count": 2,
     "metadata": {},
     "output_type": "execute_result"
    }
   ],
   "source": [
    "# This is a simple arithmetic expression to mutiply then add integers\n",
    "(3*4)+5"
   ]
  },
  {
   "cell_type": "code",
   "execution_count": 4,
   "id": "0827685d-9a9a-4164-b9bc-deeefc20090d",
   "metadata": {
    "tags": []
   },
   "outputs": [
    {
     "data": {
      "text/plain": [
       "3.3333333333333335"
      ]
     },
     "execution_count": 4,
     "metadata": {},
     "output_type": "execute_result"
    }
   ],
   "source": [
    "# This will convert 200 minutes to hours by diving by 60\n",
    "200/60"
   ]
  },
  {
   "cell_type": "markdown",
   "id": "ff9a9a61-653c-4b3f-89ef-17ab6b60c2d5",
   "metadata": {},
   "source": [
    "## Author: Qi Tang"
   ]
  },
  {
   "cell_type": "code",
   "execution_count": null,
   "id": "6470b0c4-7c33-4536-99f9-83f3f76a176b",
   "metadata": {},
   "outputs": [],
   "source": []
  }
 ],
 "metadata": {
  "kernelspec": {
   "display_name": "Python",
   "language": "python",
   "name": "conda-env-python-py"
  },
  "language_info": {
   "codemirror_mode": {
    "name": "ipython",
    "version": 3
   },
   "file_extension": ".py",
   "mimetype": "text/x-python",
   "name": "python",
   "nbconvert_exporter": "python",
   "pygments_lexer": "ipython3",
   "version": "3.7.12"
  }
 },
 "nbformat": 4,
 "nbformat_minor": 5
}
